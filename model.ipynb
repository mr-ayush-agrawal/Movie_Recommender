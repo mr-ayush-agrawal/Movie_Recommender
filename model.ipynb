{
 "cells": [
  {
   "cell_type": "markdown",
   "metadata": {},
   "source": [
    "# Model Making"
   ]
  },
  {
   "cell_type": "markdown",
   "metadata": {},
   "source": [
    "Reading The Prepared Data"
   ]
  },
  {
   "cell_type": "code",
   "execution_count": null,
   "metadata": {},
   "outputs": [],
   "source": [
    "import pandas as pd\n",
    "import numpy as np\n",
    "\n",
    "data = pd.read_csv('Processed_Data.csv')\n",
    "data.head()"
   ]
  },
  {
   "cell_type": "markdown",
   "metadata": {},
   "source": [
    "### Steming"
   ]
  },
  {
   "cell_type": "markdown",
   "metadata": {},
   "source": [
    "Here in the output of the above cell we can see that many words like _actor and actors_ are pretty much same this is just decreasing the number of the selected words. We are using that word repeatadly<br>\n",
    "\n",
    "To overcome this problem we going to apply **steming**. -> A _NLP_ technique to convert the similar words to the root word.<br>\n",
    "*Eg : [Loved, Loving, love, loves] -> [love, love, love, love]*\n",
    "\n",
    "For this we are going to use the *nltk* library"
   ]
  },
  {
   "cell_type": "code",
   "execution_count": 31,
   "metadata": {},
   "outputs": [],
   "source": [
    "from nltk.stem.porter import PorterStemmer\n",
    "Ps = PorterStemmer()"
   ]
  },
  {
   "cell_type": "code",
   "execution_count": 49,
   "metadata": {},
   "outputs": [],
   "source": [
    "# # Testing PS\n",
    "# Ps.stem('loves')\n",
    "# Ps.stem('lovely')\n",
    "# Ps.stem('love')"
   ]
  },
  {
   "cell_type": "code",
   "execution_count": 50,
   "metadata": {},
   "outputs": [],
   "source": [
    "# Making a helper function which shall be used for passing \n",
    "def stem(text):\n",
    "    res = []\n",
    "    for wrd in text.split():\n",
    "        res.append(Ps.stem(wrd))\n",
    "\n",
    "    return \" \".join(res)"
   ]
  },
  {
   "cell_type": "code",
   "execution_count": null,
   "metadata": {},
   "outputs": [],
   "source": [
    "data['tags'] = data.tags.apply(stem)\n",
    "data.tags[0]"
   ]
  },
  {
   "cell_type": "markdown",
   "metadata": {},
   "source": [
    "### Forming Vector"
   ]
  },
  {
   "cell_type": "code",
   "execution_count": 53,
   "metadata": {},
   "outputs": [],
   "source": [
    "from sklearn.feature_extraction.text import CountVectorizer\n",
    "\n",
    "cv = CountVectorizer(max_features= 4000, stop_words='english')"
   ]
  },
  {
   "cell_type": "markdown",
   "metadata": {},
   "source": [
    "CountVectorizer is used to create vectors form the text words.\n",
    "\n",
    "_Max Feature_ -> Diamension of the words OR Number of most frequent words to select<br>\n",
    "_Stop Words_ -> Words that dosen't add meaning to the sentance. _Eg : a, is, the, and, am ..._ **Eng**: To specify the lang of the stop words."
   ]
  },
  {
   "cell_type": "code",
   "execution_count": 54,
   "metadata": {},
   "outputs": [
    {
     "data": {
      "text/plain": [
       "(4800, 4000)"
      ]
     },
     "execution_count": 54,
     "metadata": {},
     "output_type": "execute_result"
    }
   ],
   "source": [
    "Vectors = cv.fit_transform(data['tags']).toarray()\n",
    "Vectors.shape"
   ]
  },
  {
   "cell_type": "markdown",
   "metadata": {},
   "source": [
    "In the above cell we have succesfully convered the Movies in the form of **vector**"
   ]
  },
  {
   "cell_type": "markdown",
   "metadata": {},
   "source": [
    "Now looking all the words we have selected for making the vector.<br>\n",
    "We have function in CV which can do this"
   ]
  },
  {
   "cell_type": "code",
   "execution_count": null,
   "metadata": {},
   "outputs": [],
   "source": [
    "cv.get_feature_names_out()[20:80]"
   ]
  },
  {
   "cell_type": "markdown",
   "metadata": {},
   "source": [
    "## Calculating Similarity\n",
    "We are Calculating the similarites between the vectors using cosine similarities. The Similarity socore is in range [0,1] <br>\n",
    "0 -> Not at all similar<br>\n",
    "1 -> Exasctly same"
   ]
  },
  {
   "cell_type": "code",
   "execution_count": 57,
   "metadata": {},
   "outputs": [],
   "source": [
    "from sklearn.metrics.pairwise import cosine_similarity\n"
   ]
  },
  {
   "cell_type": "markdown",
   "metadata": {},
   "source": [
    "cosine_similarity calculates the similarity socre with every other movie in the list."
   ]
  },
  {
   "cell_type": "code",
   "execution_count": null,
   "metadata": {},
   "outputs": [],
   "source": [
    "Similarity_Score = cosine_similarity(Vectors)\n",
    "Similarity_Score"
   ]
  },
  {
   "cell_type": "markdown",
   "metadata": {},
   "source": [
    "Visulising just for the fun purpose\n",
    "\n",
    "Currently can't be used as Matplotlib and Seaborn is not installed in Virtual Env"
   ]
  },
  {
   "cell_type": "code",
   "execution_count": null,
   "metadata": {},
   "outputs": [],
   "source": [
    "# Using Matplot lib and seaborn for this Purpose"
   ]
  },
  {
   "cell_type": "code",
   "execution_count": 59,
   "metadata": {},
   "outputs": [
    {
     "data": {
      "text/plain": [
       "(4800, 4800)"
      ]
     },
     "execution_count": 59,
     "metadata": {},
     "output_type": "execute_result"
    }
   ],
   "source": [
    "Similarity_Score.shape"
   ]
  },
  {
   "cell_type": "markdown",
   "metadata": {},
   "source": [
    "## Recommend"
   ]
  },
  {
   "cell_type": "markdown",
   "metadata": {},
   "source": [
    "Movie name would be give<br>\n",
    "The Work would will be :\n",
    "1. Finding the index of the movie\n",
    "1. Sorting the similarity socore \n",
    "1. Fetch the number of movies you want to recommend -> Here 7"
   ]
  },
  {
   "cell_type": "markdown",
   "metadata": {},
   "source": [
    "we will enumerate the similarity score of the matrix so we won't loose the index of the movie<br>\n",
    "After getting the tupple we will sort that on the basis of the second Value(our score), in decending order"
   ]
  },
  {
   "cell_type": "code",
   "execution_count": null,
   "metadata": {},
   "outputs": [],
   "source": [
    "# Here we are selecting the top 7 most matching movies\n",
    "# sorted(list(enumerate(Similarity_Score[1])), reverse=True, key=lambda x :x[1])[1:8]"
   ]
  },
  {
   "cell_type": "code",
   "execution_count": 119,
   "metadata": {},
   "outputs": [],
   "source": [
    "def suggest(movie):\n",
    "    mov_Idx = data[data['title']==movie].index[0]\n",
    "    distances = Similarity_Score[mov_Idx]\n",
    "    movieList = sorted(list(enumerate(distances)), reverse=True, key=lambda x :x[1])[1:8]\n",
    "    \n",
    "    for mv in movieList:\n",
    "        print(data.title.iloc[mv[0]])"
   ]
  },
  {
   "cell_type": "code",
   "execution_count": 118,
   "metadata": {},
   "outputs": [
    {
     "name": "stdout",
     "output_type": "stream",
     "text": [
      "The Avengers\n",
      "Iron Man 3\n",
      "Iron Man 2\n",
      "Iron Man\n",
      "Captain America: Civil War\n",
      "Thor\n",
      "The Wolverine\n"
     ]
    }
   ],
   "source": [
    "suggest('Avengers: Age of Ultron')"
   ]
  }
 ],
 "metadata": {
  "kernelspec": {
   "display_name": "Python 3",
   "language": "python",
   "name": "python3"
  },
  "language_info": {
   "codemirror_mode": {
    "name": "ipython",
    "version": 3
   },
   "file_extension": ".py",
   "mimetype": "text/x-python",
   "name": "python",
   "nbconvert_exporter": "python",
   "pygments_lexer": "ipython3",
   "version": "3.11.1"
  },
  "orig_nbformat": 4
 },
 "nbformat": 4,
 "nbformat_minor": 2
}
